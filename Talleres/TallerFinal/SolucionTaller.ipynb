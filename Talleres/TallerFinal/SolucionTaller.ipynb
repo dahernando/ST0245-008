{
  "nbformat": 4,
  "nbformat_minor": 0,
  "metadata": {
    "colab": {
      "name": "SolucionTaller",
      "provenance": [],
      "collapsed_sections": []
    },
    "kernelspec": {
      "name": "python3",
      "display_name": "Python 3"
    }
  },
  "cells": [
    {
      "cell_type": "markdown",
      "metadata": {
        "id": "7gpvPgFr10zd"
      },
      "source": [
        "## **Solucion Punto 1**"
      ]
    },
    {
      "cell_type": "markdown",
      "metadata": {
        "id": "S4wMiLrB1iD3"
      },
      "source": [
        "si es posible, el tipo de dato es homogéneo si se especifica un tipo de dato para la lista enlazada, por ejemplo en python, ya que es un lenguajes no tipado es facil implementar una lista que almacene diferentes tipos de datos al igual que estructuras debido a que no se especifica un tipo de dato para los datos que se van a almacenar en la lista, y en lenguajes que son fuertemente tipados también es posible ya que se puede crear un tipo de dato especial que reciba todo los tipos de datos del lenguaje "
      ]
    },
    {
      "cell_type": "markdown",
      "metadata": {
        "id": "4hWt_q_h18qp"
      },
      "source": [
        "Ejemplo implementado en pyhton"
      ]
    },
    {
      "cell_type": "code",
      "metadata": {
        "id": "pXKYvxYZ2EDB",
        "colab": {
          "base_uri": "https://localhost:8080/"
        },
        "outputId": "319f73fe-ea39-4565-9bb2-edf7da33af8e"
      },
      "source": [
        "class Node:\n",
        "    def __init__(self,data,next=None):\n",
        "        self.data = data\n",
        "        self.next = next\n",
        "\n",
        "class LinkedList:\n",
        "    def __init__(self,head=None):\n",
        "        if(head ==None):\n",
        "            self.head = head\n",
        "        else:\n",
        "            self.head = Node(head)\n",
        "            \n",
        "    def insertByHead(self,element):\n",
        "        if self.head ==None:\n",
        "            self.head = Node(element)\n",
        "        else:\n",
        "            newNode = Node(element)\n",
        "            newNode.next = self.head\n",
        "            self.head = newNode\n",
        "            \n",
        "    def toPrint(self):\n",
        "        current = self.head\n",
        "        while(current.next!=None):\n",
        "            print(current.data,\"->\",end=\" \")\n",
        "            current = current.next\n",
        "        print(current.data)\n",
        "        \n",
        "myList = LinkedList(7)\n",
        "myList.insertByHead(\"Hola\")\n",
        "myList.insertByHead([1,2,3])\n",
        "myList.insertByHead(2)\n",
        "print(\"list\")\n",
        "myList.toPrint()"
      ],
      "execution_count": null,
      "outputs": [
        {
          "output_type": "stream",
          "text": [
            "list\n",
            "2 -> [1, 2, 3] -> Hola -> 7\n"
          ],
          "name": "stdout"
        }
      ]
    },
    {
      "cell_type": "markdown",
      "metadata": {
        "id": "Hm4wvb_C2MKu"
      },
      "source": [
        "# **Solucion Punto 2**"
      ]
    },
    {
      "cell_type": "code",
      "metadata": {
        "id": "WC3Rdvxm2WUd",
        "colab": {
          "base_uri": "https://localhost:8080/"
        },
        "outputId": "963c845a-4c79-4af9-ce7d-30428366b46b"
      },
      "source": [
        "class Node:\n",
        "    def __init__(self,data, next =None):\n",
        "        self.data = int(data)\n",
        "        self.next = next\n",
        "        \n",
        "class Stack:\n",
        "    \n",
        "    def __init__(self):\n",
        "        self.head =None\n",
        "    \n",
        "    def push(self,element):\n",
        "        if self.head == None:\n",
        "            self.head = Node(element)\n",
        "        else:\n",
        "            newNode = Node(element)\n",
        "            newNode.next = self.head\n",
        "            self.head = newNode\n",
        "    \n",
        "    def toPrint(self):\n",
        "        aux = self.head\n",
        "        while(aux.next!=None):\n",
        "            print(aux.data,\"->\",end=\" \")\n",
        "            aux = aux.next\n",
        "        print(aux.data)\n",
        "    \n",
        "    def CalculateAverage(self):\n",
        "        aux = self.head\n",
        "        average = 0\n",
        "        index =0\n",
        "        while(aux!=None):\n",
        "            average+=aux.data\n",
        "            aux = aux.next\n",
        "            index+=1\n",
        "        return average/index  \n",
        "\n",
        "def main():\n",
        "     myPila =Stack()\n",
        "     myPila.push(1)\n",
        "     myPila.push(2)\n",
        "     myPila.push(3)\n",
        "     myPila.push(4)\n",
        "     myPila.push(5)\n",
        "     myPila.toPrint()\n",
        "     average = myPila.CalculateAverage()\n",
        "     print(average)\n",
        "\n",
        "if __name__=='__main__':\n",
        "    main()"
      ],
      "execution_count": null,
      "outputs": [
        {
          "output_type": "stream",
          "text": [
            "5 -> 4 -> 3 -> 2 -> 1\n",
            "3.0\n"
          ],
          "name": "stdout"
        }
      ]
    },
    {
      "cell_type": "markdown",
      "metadata": {
        "id": "keWSsQUf2uqR"
      },
      "source": [
        "# **Solucion Punto 3**"
      ]
    },
    {
      "cell_type": "markdown",
      "metadata": {
        "id": "8tBsQUuTA3F3"
      },
      "source": [
        "Pre-Orden = GEAIBMCLDFKJH\n",
        "\n",
        "In-Orden = IABEGLDCFMKHJ\n",
        "\n",
        "\n",
        "---\n",
        "\n",
        "\n",
        "**Arbol Binario**\n",
        "\n",
        "![image.png](data:image/png;base64,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)"
      ]
    },
    {
      "cell_type": "markdown",
      "metadata": {
        "id": "BpTNlCuABuSy"
      },
      "source": [
        "Recorrido en Post-Orden = IBAEDLFCHJKMG"
      ]
    },
    {
      "cell_type": "markdown",
      "metadata": {
        "id": "driySjs2RP75"
      },
      "source": [
        "Funcion que da el recorrido en Post-Orden:"
      ]
    },
    {
      "cell_type": "code",
      "metadata": {
        "colab": {
          "base_uri": "https://localhost:8080/"
        },
        "id": "pHqWi0kXRcDA",
        "outputId": "e207b46c-0ff5-41c6-eee2-d80c9db55676"
      },
      "source": [
        "def calcularPost(pre, inor):\n",
        "    if pre == \"\" or inor == \"\":\n",
        "        return \"\"\n",
        "    if len(pre) == 1 or len(inor) == 1:\n",
        "        return pre or inor\n",
        "    post = \"\"\n",
        "    inorI= \"\"\n",
        "    inorD = \"\"\n",
        "    preI = \"\"\n",
        "    preD = \"\"\n",
        "    i = 0\n",
        "    while inor[i] != pre[0]:\n",
        "        inorI += inor[i]\n",
        "        i += 1\n",
        "    i += 1\n",
        "    while i < len(inor):\n",
        "        inorD += inor[i]\n",
        "        i += 1\n",
        "    i = 0\n",
        "    for j in pre:\n",
        "        if j in inorI:\n",
        "            preI += j\n",
        "        if j in inorD:\n",
        "            preD += j\n",
        "    post = post + calcularPost(preI, inorI) + calcularPost(preD, inorD) + pre[0]\n",
        "    return post\n",
        "\n",
        "print(calcularPost(\"GEAIBMCLDFKJH\", \"IABEGLDCFMKHJ\"))"
      ],
      "execution_count": 1,
      "outputs": [
        {
          "output_type": "stream",
          "text": [
            "IBAEDLFCHJKMG\n"
          ],
          "name": "stdout"
        }
      ]
    },
    {
      "cell_type": "markdown",
      "metadata": {
        "id": "M4l0qALRxLOK"
      },
      "source": [
        "# **Solucion Punto 4**"
      ]
    },
    {
      "cell_type": "code",
      "metadata": {
        "id": "N-V2VVTNxRDX",
        "colab": {
          "base_uri": "https://localhost:8080/"
        },
        "outputId": "82747a2f-dc9a-4d51-bdcc-45bbd4fcb8d4"
      },
      "source": [
        "from itertools import combinations\n",
        "\n",
        "number = [6,9,20]\n",
        "\n",
        "data = int(input(\"Ingrese el numero de nuggets a comprar \"))\n",
        "answers = []\n",
        "for x in combinations(number,1):\n",
        "  if x[0] == data:\n",
        "    print(\"Puede comprar un paquete de\",x[0])\n",
        "    answers.append(x[0])\n",
        "  elif x[0]+x[0] == data:\n",
        "    print(\"Puede comprar dos paquetes de\",x[0])\n",
        "    answers.append(x[0])\n",
        "  elif x[0]+x[0]+x[0] == data:\n",
        "    print(\"Puede comprar tres paquetes de\",x[0])\n",
        "    answers.append(x[0])\n",
        "\n",
        "for x in combinations(number,2):\n",
        "  if x[0]+x[1] == data:\n",
        "    print(\"Puede comprar paquetes de\",x[0],\"y\",x[1])\n",
        "    answers.append([x[0],x[1]])\n",
        "\n",
        "for x in combinations(number,3):\n",
        "  if x[0]+x[1]+x[2] == data:\n",
        "    print(\"Puede comprar paquetes de\",x[0],\",\",x[1],\"y\",x[2])\n",
        "    answers.append([x[0],x[1],x[2]])\n",
        "  elif not answers:\n",
        "    print(\"No puede comprar esa cantidad\")"
      ],
      "execution_count": null,
      "outputs": [
        {
          "output_type": "stream",
          "text": [
            "Ingrese el numero de nuggets a comprar 24\n",
            "No puede comprar esa cantidad\n"
          ],
          "name": "stdout"
        }
      ]
    },
    {
      "cell_type": "markdown",
      "metadata": {
        "id": "NOd3-qyD2mRj"
      },
      "source": [
        "# **Solucion Punto 5**"
      ]
    },
    {
      "cell_type": "markdown",
      "metadata": {
        "id": "KAS-uwJj2-kb"
      },
      "source": [
        "**5.1**\n",
        "```\n",
        "for i = 0 to N:\n",
        "  if i %2==0:\n",
        "    print i \n",
        "```\n",
        "Complejidad = O(n)\n",
        "\n",
        "**5.2**\n",
        "```\n",
        "for i = 0 to N:\n",
        "  if i %2==0:\n",
        "    print i \n",
        "for i = 0 to N:\n",
        "  if i %2!=0:\n",
        "    print i\n",
        "```\n",
        "Complejidad = O(n)\n",
        "\n",
        "**5.3**\n",
        "```\n",
        "i =1\n",
        "while(i<N):\n",
        "  print i \n",
        "  i = i*2\n",
        "```\n",
        "Complejidad = O(log(n))\n",
        "\n",
        "**5.4**\n",
        "```\n",
        "for i=0 to N:\n",
        "  j=1\n",
        "  while j<N:\n",
        "    print j\n",
        "    j = j*2\n",
        "```\n",
        "Complejidad = O(nlog(n))\n",
        "\n",
        "**5.5**\n",
        "```\n",
        "N=1000\n",
        "if N%2==0:\n",
        "  print \"par\"\n",
        "else:\n",
        "  print \"impar\"\n",
        "```\n",
        "Complejidad = O(1)\n"
      ]
    },
    {
      "cell_type": "markdown",
      "metadata": {
        "id": "zjcysx9K8MDz"
      },
      "source": [
        "# **Solucion Punto 6**"
      ]
    },
    {
      "cell_type": "markdown",
      "metadata": {
        "id": "-X4aGTdrbJvr"
      },
      "source": [
        "Funcion para calcular la altura de un arbol\n",
        "\n",
        "\n",
        "```\n",
        "def calculateHeigth(self,nodo):\n",
        "        heigth=0\n",
        "        if nodo == None:\n",
        "            return self.heigth\n",
        "        if nodo.hijoI!=None:\n",
        "            heigth = max(heigth,self.calculateHeigth(nodo.hijoI))\n",
        "        if nodo.hijoD != None:\n",
        "            heigth = max(heigth,self.calculateHeigth(nodo.hijoD))\n",
        "        heigth+=1\n",
        "        return heigth\n",
        "```\n",
        "Implementacion de la funcion en un arbol diseñado en python:\n"
      ]
    },
    {
      "cell_type": "code",
      "metadata": {
        "id": "c483FMjqbpEe",
        "colab": {
          "base_uri": "https://localhost:8080/"
        },
        "outputId": "1cf85294-9ee5-4ced-d5e9-02a618af13f6"
      },
      "source": [
        "class Nodo:\n",
        "    \n",
        "    def __init__(self,valor):\n",
        "        self.valor=valor\n",
        "        self.hijoI=None\n",
        "        self.hijoD=None\n",
        "\n",
        "class Arbol:\n",
        "    def __init__(self):\n",
        "        self.raiz= None\n",
        "        \n",
        "    def obtRaiz(self):\n",
        "        return self.raiz\n",
        "    \n",
        "    def agregar(self,val):\n",
        "        if(self.raiz==None):\n",
        "            self.raiz = Nodo(val)\n",
        "        else:\n",
        "            self.agNodo(val,self.raiz)\n",
        "    \n",
        "    def agNodo(self, val, nodo):\n",
        "        if(val<nodo.valor):\n",
        "            if(nodo.hijoI!=None):\n",
        "                self.agNodo(val,nodo.hijoI)\n",
        "            else:\n",
        "                nodo.hijoI = Nodo(val)\n",
        "        else:\n",
        "            if(nodo.hijoD!=None):\n",
        "                self.agNodo(val,nodo.hijoD)\n",
        "            else:\n",
        "                nodo.hijoD = Nodo(val)\n",
        "    \n",
        "    def inorder(self,root):\n",
        "        if root ==None:\n",
        "            return\n",
        "        self.inorder(root.hijoI)\n",
        "        print(root.valor)\n",
        "        self.inorder(root.hijoD)\n",
        "  \n",
        "    def calculateHeigth(self,nodo):\n",
        "        heigth=0\n",
        "        if nodo == None:\n",
        "            return self.heigth\n",
        "        if nodo.hijoI!=None:\n",
        "            heigth = max(heigth,self.calculateHeigth(nodo.hijoI))\n",
        "        if nodo.hijoD != None:\n",
        "            heigth = max(heigth,self.calculateHeigth(nodo.hijoD))\n",
        "        heigth+=1\n",
        "        return heigth\n",
        "\n",
        "def main():\n",
        "    tree = Arbol()\n",
        "    tree.agregar(5)\n",
        "    tree.agregar(4)\n",
        "    tree.agregar(7)\n",
        "    tree.agregar(8)\n",
        "    tree.agregar(9)\n",
        "    altura = tree.calculateHeigth(tree.obtRaiz())\n",
        "    print(\"altura:\",altura)\n",
        "    \n",
        "if __name__==\"__main__\":\n",
        "    main()"
      ],
      "execution_count": null,
      "outputs": [
        {
          "output_type": "stream",
          "text": [
            "altura: 4\n"
          ],
          "name": "stdout"
        }
      ]
    },
    {
      "cell_type": "markdown",
      "metadata": {
        "id": "V2JO5NVBb25E"
      },
      "source": [
        "#**Solucion Punto 7**"
      ]
    },
    {
      "cell_type": "markdown",
      "metadata": {
        "id": "_ZJwNP_ltiyh"
      },
      "source": [
        "\n",
        "\n",
        "```\n",
        "class Alumno:\n",
        "    def __init__(self, nombre, edad, nota):\n",
        "        self.nombre = nombre\n",
        "        self.edad = edad\n",
        "        self.nota = nota\n",
        "    def __str__(self):\n",
        "       return self.nombre+' - '+str(self.edad)+' años :'+str(self.nota)\n",
        "class Nodo:\n",
        "    def __init__(self, datos):\n",
        "        self.datos = datos\n",
        "        self.siguiente = None\n",
        "\n",
        "primero = None\n",
        "alumno = Alumno('Alex', 30, 8.9)\n",
        "nodo = Nodo(alumno)\n",
        "nodo.siguiente = primero\n",
        "primero = nodo\n",
        "alumno = Alumno('Pepe', 27, 3.7)\n",
        "nodo = Nodo(alumno)\n",
        "nodo.siguiente = primero\n",
        "primero = nodo\n",
        "n = primero\n",
        "while n != None:\n",
        " print(n.datos)\n",
        " n = n.siguiente\n",
        "```\n",
        "Se utilizo una **lista enlazada** para guardar los datos.\n",
        "\n",
        "\n",
        "complejidad = **O(n)**\n"
      ]
    },
    {
      "cell_type": "markdown",
      "metadata": {
        "id": "pSQHH1mYtitj"
      },
      "source": [
        "Primera Optimizacion \n",
        "\n",
        "\n",
        "```\n",
        "class Alumno:\n",
        "    def __init__(self, nombre, edad, nota):\n",
        "        self.nombre = nombre\n",
        "        self.edad = edad\n",
        "        self.nota = nota\n",
        "    def __str__(self):\n",
        "       return self.nombre+' - '+str(self.edad)+' años :'+str(self.nota)\n",
        "class Nodo:\n",
        "    def __init__(self, datos):\n",
        "        self.datos = datos\n",
        "        self.siguiente = None\n",
        "\n",
        "nodo = Nodo(Alumno('Alex', 30, 8.9))\n",
        "primero = nodo\n",
        "nodo = Nodo(Alumno('Pepe', 27, 3.7))\n",
        "nodo.siguiente = primero\n",
        "primero = nodo\n",
        "n = primero\n",
        "while n != None:\n",
        " print(n.datos)\n",
        " n = n.siguiente\n",
        "```\n",
        "\n",
        "Segunda Optimizacion\n",
        "\n",
        "\n",
        "```\n",
        "class Alumno:\n",
        "    def __init__(self, nombre, edad, nota):\n",
        "        self.nombre = nombre\n",
        "        self.edad = edad\n",
        "        self.nota = nota\n",
        "    def __str__(self):\n",
        "       return self.nombre+' - '+str(self.edad)+' años :'+str(self.nota)\n",
        "class Nodo:\n",
        "    def __init__(self, datos):\n",
        "        self.datos = datos\n",
        "        self.siguiente = None\n",
        "\n",
        "nodo = Nodo(Alumno('Alex', 30, 8.9))\n",
        "primero = nodo\n",
        "nodo = Nodo(Alumno('Pepe', 27, 3.7))\n",
        "nodo.siguiente = primero\n",
        "primero = nodo\n",
        "print(primero.datos)\n",
        "print(primero.siguiente.datos)\n",
        "```\n",
        "\n",
        "Despues de la primera optimizacion el codigo queda con la misma complejidad **O(n)** esto se debe a que la complijidad del algoritmo la esta proporcionando en este caso el ciclo while que imprime los dato, sin embargo, en la optimizacion dos la complejidad es **O(1)** esto asumiendo que solo se van a añadir esos dos alumnos por lo que se pueden imprimir directamente sin necesidad del ciclo while debido a que son pocos.\n"
      ]
    },
    {
      "cell_type": "markdown",
      "metadata": {
        "id": "E30MHbC-pkk0"
      },
      "source": [
        "#**Solucion Punto 8**"
      ]
    },
    {
      "cell_type": "code",
      "metadata": {
        "id": "Qq0fcyryqMCq"
      },
      "source": [
        "import pandas as pd"
      ],
      "execution_count": 3,
      "outputs": []
    },
    {
      "cell_type": "code",
      "metadata": {
        "colab": {
          "resources": {
            "http://localhost:8080/nbextensions/google.colab/files.js": {
              "data": "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",
              "ok": true,
              "headers": [
                [
                  "content-type",
                  "application/javascript"
                ]
              ],
              "status": 200,
              "status_text": ""
            }
          },
          "base_uri": "https://localhost:8080/",
          "height": 72
        },
        "id": "LxFdOkOHq0-o",
        "outputId": "72950bd5-e7db-488e-b286-ae80f58677a7"
      },
      "source": [
        "from google.colab import files\n",
        "uploades = files.upload()"
      ],
      "execution_count": 19,
      "outputs": [
        {
          "output_type": "display_data",
          "data": {
            "text/html": [
              "\n",
              "     <input type=\"file\" id=\"files-92990eaf-9431-4779-bc26-51b586eaed24\" name=\"files[]\" multiple disabled\n",
              "        style=\"border:none\" />\n",
              "     <output id=\"result-92990eaf-9431-4779-bc26-51b586eaed24\">\n",
              "      Upload widget is only available when the cell has been executed in the\n",
              "      current browser session. Please rerun this cell to enable.\n",
              "      </output>\n",
              "      <script src=\"/nbextensions/google.colab/files.js\"></script> "
            ],
            "text/plain": [
              "<IPython.core.display.HTML object>"
            ]
          },
          "metadata": {
            "tags": []
          }
        },
        {
          "output_type": "stream",
          "text": [
            "Saving Datos.csv to Datos.csv\n"
          ],
          "name": "stdout"
        }
      ]
    },
    {
      "cell_type": "code",
      "metadata": {
        "colab": {
          "base_uri": "https://localhost:8080/",
          "height": 607
        },
        "id": "AYWuVU5AqGKn",
        "outputId": "90b127ed-83a0-4b53-8ae2-718ea596f496"
      },
      "source": [
        "data =  pd.read_csv(\"Datos.csv\", sep = \"\\t\", header =0)\n",
        "data"
      ],
      "execution_count": 20,
      "outputs": [
        {
          "output_type": "execute_result",
          "data": {
            "text/html": [
              "<div>\n",
              "<style scoped>\n",
              "    .dataframe tbody tr th:only-of-type {\n",
              "        vertical-align: middle;\n",
              "    }\n",
              "\n",
              "    .dataframe tbody tr th {\n",
              "        vertical-align: top;\n",
              "    }\n",
              "\n",
              "    .dataframe thead th {\n",
              "        text-align: right;\n",
              "    }\n",
              "</style>\n",
              "<table border=\"1\" class=\"dataframe\">\n",
              "  <thead>\n",
              "    <tr style=\"text-align: right;\">\n",
              "      <th></th>\n",
              "      <th>Nombre</th>\n",
              "      <th>Edad</th>\n",
              "      <th>Carrera</th>\n",
              "      <th>Gustos</th>\n",
              "    </tr>\n",
              "  </thead>\n",
              "  <tbody>\n",
              "    <tr>\n",
              "      <th>0</th>\n",
              "      <td>Daniel Garcia Salcedo</td>\n",
              "      <td>18 años</td>\n",
              "      <td>None</td>\n",
              "      <td>Amante de los shooter, le gusta el freesyle</td>\n",
              "    </tr>\n",
              "    <tr>\n",
              "      <th>1</th>\n",
              "      <td>Daniel Gonzales Bernal</td>\n",
              "      <td>29 años</td>\n",
              "      <td>Ing de Sistemas</td>\n",
              "      <td>Medio acdicto al lol y tft, le gusta cocinar y...</td>\n",
              "    </tr>\n",
              "    <tr>\n",
              "      <th>2</th>\n",
              "      <td>Diego Velasquez</td>\n",
              "      <td>17 años</td>\n",
              "      <td>Ing matematica</td>\n",
              "      <td>Toca guittarra y armonica, le gusta estudiar y...</td>\n",
              "    </tr>\n",
              "    <tr>\n",
              "      <th>3</th>\n",
              "      <td>Harold Steven Gonzales</td>\n",
              "      <td>None</td>\n",
              "      <td>Ing matematica</td>\n",
              "      <td>Toca trombon y le gusta ayudar a las personas</td>\n",
              "    </tr>\n",
              "    <tr>\n",
              "      <th>4</th>\n",
              "      <td>Jayder Ochoa Carvajal</td>\n",
              "      <td>None</td>\n",
              "      <td>Ing de Sistemas</td>\n",
              "      <td>Aveces ve anime, aveces pelicula y no le gusta...</td>\n",
              "    </tr>\n",
              "    <tr>\n",
              "      <th>5</th>\n",
              "      <td>Juan Felipe Agudelo Velez</td>\n",
              "      <td>17 años</td>\n",
              "      <td>Ing matematica</td>\n",
              "      <td>Le gusta la musica, toca guitarra y y la casuela</td>\n",
              "    </tr>\n",
              "    <tr>\n",
              "      <th>6</th>\n",
              "      <td>Juan Felipe Martinez</td>\n",
              "      <td>20 años</td>\n",
              "      <td>Ing de Sistemas e Ing mecanica</td>\n",
              "      <td>Le gusta leer, ver series y los deportes como ...</td>\n",
              "    </tr>\n",
              "    <tr>\n",
              "      <th>7</th>\n",
              "      <td>Juan Manuel Muñoz</td>\n",
              "      <td>None</td>\n",
              "      <td>Ing de Sistemas</td>\n",
              "      <td>Le gusta el valorat, Gorillaz y alaba a cristo...</td>\n",
              "    </tr>\n",
              "    <tr>\n",
              "      <th>8</th>\n",
              "      <td>Donovan Castrillon</td>\n",
              "      <td>18 años</td>\n",
              "      <td>Ing de Sistemas</td>\n",
              "      <td>Le gustan lo gatos, el anime y los videojuegos</td>\n",
              "    </tr>\n",
              "    <tr>\n",
              "      <th>9</th>\n",
              "      <td>Jose Miguel Blanco</td>\n",
              "      <td>17 años</td>\n",
              "      <td>Ing de Sistemas</td>\n",
              "      <td>Le gusta el trap americano, le gusta el wow</td>\n",
              "    </tr>\n",
              "    <tr>\n",
              "      <th>10</th>\n",
              "      <td>Jose Manuel Ramirez</td>\n",
              "      <td>17 años</td>\n",
              "      <td>Ing matematica</td>\n",
              "      <td>Le gusta ver anime, la matematica pura y la fi...</td>\n",
              "    </tr>\n",
              "    <tr>\n",
              "      <th>11</th>\n",
              "      <td>Myllee Sarleth Mosquera</td>\n",
              "      <td>17 años</td>\n",
              "      <td>Ing matematica</td>\n",
              "      <td>Le gusta bailar, dibujar, leer y la matematicas</td>\n",
              "    </tr>\n",
              "    <tr>\n",
              "      <th>12</th>\n",
              "      <td>Daniel Hernandez Oyola</td>\n",
              "      <td>17 años</td>\n",
              "      <td>Ing de Sistemas</td>\n",
              "      <td>Le gusta el deporte, el futbol y los videojuegos</td>\n",
              "    </tr>\n",
              "    <tr>\n",
              "      <th>13</th>\n",
              "      <td>Julian Andres Mazo</td>\n",
              "      <td>17 años</td>\n",
              "      <td>Ing de Sistemas</td>\n",
              "      <td>Le gusta la musica,  el wow, y le gusta leer s...</td>\n",
              "    </tr>\n",
              "    <tr>\n",
              "      <th>14</th>\n",
              "      <td>Santiago Parra Mejia</td>\n",
              "      <td>16 años</td>\n",
              "      <td>Ing matematica</td>\n",
              "      <td>Es apasionado por la musica, toca piano y quie...</td>\n",
              "    </tr>\n",
              "    <tr>\n",
              "      <th>15</th>\n",
              "      <td>Salomon Velez</td>\n",
              "      <td>17 años</td>\n",
              "      <td>Ing de Sistemas</td>\n",
              "      <td>Le gusta escribir, jugar videojuegos, y escuch...</td>\n",
              "    </tr>\n",
              "    <tr>\n",
              "      <th>16</th>\n",
              "      <td>Simon Gomez Arango</td>\n",
              "      <td>17 años</td>\n",
              "      <td>Ing de Sistemas</td>\n",
              "      <td>No le gusta el calor, le gusta el campo y medi...</td>\n",
              "    </tr>\n",
              "    <tr>\n",
              "      <th>17</th>\n",
              "      <td>Cristian Camilo Zapata</td>\n",
              "      <td>18 años</td>\n",
              "      <td>Ing de Sistemas</td>\n",
              "      <td>Disfruta de la buena comida, ama el picante y ...</td>\n",
              "    </tr>\n",
              "  </tbody>\n",
              "</table>\n",
              "</div>"
            ],
            "text/plain": [
              "                       Nombre  ...                                             Gustos\n",
              "0       Daniel Garcia Salcedo  ...        Amante de los shooter, le gusta el freesyle\n",
              "1      Daniel Gonzales Bernal  ...  Medio acdicto al lol y tft, le gusta cocinar y...\n",
              "2             Diego Velasquez  ...  Toca guittarra y armonica, le gusta estudiar y...\n",
              "3      Harold Steven Gonzales  ...      Toca trombon y le gusta ayudar a las personas\n",
              "4       Jayder Ochoa Carvajal  ...  Aveces ve anime, aveces pelicula y no le gusta...\n",
              "5   Juan Felipe Agudelo Velez  ...   Le gusta la musica, toca guitarra y y la casuela\n",
              "6        Juan Felipe Martinez  ...  Le gusta leer, ver series y los deportes como ...\n",
              "7           Juan Manuel Muñoz  ...  Le gusta el valorat, Gorillaz y alaba a cristo...\n",
              "8         Donovan Castrillon   ...     Le gustan lo gatos, el anime y los videojuegos\n",
              "9          Jose Miguel Blanco  ...        Le gusta el trap americano, le gusta el wow\n",
              "10        Jose Manuel Ramirez  ...  Le gusta ver anime, la matematica pura y la fi...\n",
              "11    Myllee Sarleth Mosquera  ...    Le gusta bailar, dibujar, leer y la matematicas\n",
              "12     Daniel Hernandez Oyola  ...   Le gusta el deporte, el futbol y los videojuegos\n",
              "13         Julian Andres Mazo  ...  Le gusta la musica,  el wow, y le gusta leer s...\n",
              "14       Santiago Parra Mejia  ...  Es apasionado por la musica, toca piano y quie...\n",
              "15              Salomon Velez  ...  Le gusta escribir, jugar videojuegos, y escuch...\n",
              "16         Simon Gomez Arango  ...  No le gusta el calor, le gusta el campo y medi...\n",
              "17     Cristian Camilo Zapata  ...  Disfruta de la buena comida, ama el picante y ...\n",
              "\n",
              "[18 rows x 4 columns]"
            ]
          },
          "metadata": {
            "tags": []
          },
          "execution_count": 20
        }
      ]
    },
    {
      "cell_type": "code",
      "metadata": {
        "colab": {
          "base_uri": "https://localhost:8080/"
        },
        "id": "re5lFaSmr586",
        "outputId": "f0d43d89-331f-4c4b-e47d-c74ae7538ff0"
      },
      "source": [
        "class Student:\n",
        "    def __init__(self, name, age, carrer, preferences):\n",
        "        self.name = name\n",
        "        self.age = age\n",
        "        self.carrer = carrer\n",
        "        self.preferences = preferences\n",
        "    def __str__(self):\n",
        "       return self.name+' Edad: '+str(self.age)+' carrera :'+str(self.carrer) +' gustos: ' + str(self.preferences)\n",
        "class Node:\n",
        "    def __init__(self, data):\n",
        "        self.data = data\n",
        "        self.next = None\n",
        "  \n",
        "class LinkedList:\n",
        "    \n",
        "    def __init__(self,head=None):\n",
        "        if(head ==None):\n",
        "            self.head = head\n",
        "        else:\n",
        "            self.head = Node(head)\n",
        "        \n",
        "    def insertByTail(self,element):\n",
        "        if self.head ==None:\n",
        "            self.head = Node(element)\n",
        "        else:\n",
        "            current = self.head\n",
        "            while current.next !=  None:\n",
        "                current = current.next\n",
        "            newNode = Node(element)\n",
        "            current.next = newNode\n",
        "\n",
        "    def toPrint(self):\n",
        "        current = self.head\n",
        "        while(current.next!=None):\n",
        "            print(current.data,\"->\",end=\" \")\n",
        "            current = current.next\n",
        "        print(current.data)\n",
        "i =0 \n",
        "classmates = LinkedList()\n",
        "while i<len(data[data.columns[0]]):\n",
        "  name = data[data.columns[0]].iloc[i]\n",
        "  age = data[data.columns[1]].iloc[i]\n",
        "  carrer = data[data.columns[2]].iloc[i]  \n",
        "  preferences = data[data.columns[3]].iloc[i]\n",
        "  classmates.insertByTail(Student(name,age,carrer,preferences))\n",
        "  i+=1\n",
        "classmates.toPrint()"
      ],
      "execution_count": 60,
      "outputs": [
        {
          "output_type": "stream",
          "text": [
            "Daniel Garcia Salcedo Edad: 18 años carrera :None gustos: Amante de los shooter, le gusta el freesyle -> Daniel Gonzales Bernal Edad: 29 años carrera :Ing de Sistemas gustos: Medio acdicto al lol y tft, le gusta cocinar y las motos -> Diego Velasquez Edad: 17 años carrera :Ing matematica gustos: Toca guittarra y armonica, le gusta estudiar y el rock -> Harold Steven Gonzales Edad: None carrera :Ing matematica gustos: Toca trombon y le gusta ayudar a las personas -> Jayder Ochoa Carvajal Edad: None carrera :Ing de Sistemas gustos: Aveces ve anime, aveces pelicula y no le gusta mucho la musica -> Juan Felipe Agudelo Velez Edad: 17 años carrera :Ing matematica gustos: Le gusta la musica, toca guitarra y y la casuela -> Juan Felipe Martinez Edad: 20 años carrera :Ing de Sistemas e Ing mecanica gustos: Le gusta leer, ver series y los deportes como el futbol -> Juan Manuel Muñoz Edad: None carrera :Ing de Sistemas gustos: Le gusta el valorat, Gorillaz y alaba a cristo rey -> Donovan Castrillon  Edad: 18 años carrera :Ing de Sistemas gustos: Le gustan lo gatos, el anime y los videojuegos -> Jose Miguel Blanco Edad: 17 años carrera :Ing de Sistemas gustos: Le gusta el trap americano, le gusta el wow -> Jose Manuel Ramirez Edad: 17 años carrera :Ing matematica gustos: Le gusta ver anime, la matematica pura y la fisica teorica -> Myllee Sarleth Mosquera Edad: 17 años carrera :Ing matematica gustos: Le gusta bailar, dibujar, leer y la matematicas -> Daniel Hernandez Oyola Edad: 17 años carrera :Ing de Sistemas gustos: Le gusta el deporte, el futbol y los videojuegos -> Julian Andres Mazo Edad: 17 años carrera :Ing de Sistemas gustos: Le gusta la musica,  el wow, y le gusta leer sobre filosofia -> Santiago Parra Mejia Edad: 16 años carrera :Ing matematica gustos: Es apasionado por la musica, toca piano y quiere aprender tecnica vocal -> Salomon Velez Edad: 17 años carrera :Ing de Sistemas gustos: Le gusta escribir, jugar videojuegos, y escuchar musica -> Simon Gomez Arango Edad: 17 años carrera :Ing de Sistemas gustos: No le gusta el calor, le gusta el campo y meditar y le gusta lo parnormal -> Cristian Camilo Zapata Edad: 18 años  carrera :Ing de Sistemas gustos: Disfruta de la buena comida, ama el picante y las especias en general\n"
          ],
          "name": "stdout"
        }
      ]
    }
  ]
}